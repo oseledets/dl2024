{
  "cells": [
    {
      "cell_type": "markdown",
      "id": "05306e80",
      "metadata": {
        "id": "05306e80"
      },
      "source": [
        "# PyTorch Introduction"
      ]
    },
    {
      "cell_type": "markdown",
      "id": "022be40a",
      "metadata": {
        "id": "022be40a"
      },
      "source": [
        "# Components of Network Training\n",
        "\n",
        "1. Dataset\n",
        "2. Network\n",
        "3. Optimizer\n",
        "4. Training Loop"
      ]
    },
    {
      "cell_type": "code",
      "execution_count": 25,
      "id": "83b69c45",
      "metadata": {
        "id": "83b69c45"
      },
      "outputs": [],
      "source": [
        "from pathlib import Path"
      ]
    },
    {
      "cell_type": "code",
      "execution_count": 7,
      "id": "6cba802f",
      "metadata": {
        "id": "6cba802f"
      },
      "outputs": [],
      "source": [
        "import torch\n",
        "from torch.utils.data import Dataset\n",
        "\n",
        "\n",
        "class MyDataset(Dataset):\n",
        "    def __init__(self): ...\n",
        "\n",
        "    def __len__(self): ...\n",
        "\n",
        "    def __getitem__(self, index: int): ..."
      ]
    },
    {
      "cell_type": "code",
      "execution_count": 4,
      "id": "8aab3f9e",
      "metadata": {
        "id": "8aab3f9e"
      },
      "outputs": [],
      "source": [
        "import torch\n",
        "from torch.utils.data import Dataset\n",
        "import numpy as np\n",
        "\n",
        "class InMemoryDataset(Dataset):\n",
        "    def __init__(self, dataset_root_folder: Path):\n",
        "        samples = np.load(dataset_root_folder / 'samples.npy')\n",
        "\n",
        "    def __len__(self):\n",
        "        return len(self.samples)\n",
        "\n",
        "    def __getitem__(self, index: int):\n",
        "        return self.samples[index]"
      ]
    },
    {
      "cell_type": "code",
      "execution_count": 5,
      "id": "1d32a277",
      "metadata": {
        "id": "1d32a277"
      },
      "outputs": [],
      "source": [
        "from PIL import Image\n",
        "import torch\n",
        "from torch.utils.data import Dataset\n",
        "\n",
        "\n",
        "class OutOfMemoryDataset(Dataset):\n",
        "    def __init__(self, dataset_root_folder: Path, transforms):\n",
        "        self.transforms = transforms\n",
        "\n",
        "        self.image_files = list(dataset_root_folder.iterdir())\n",
        "\n",
        "    def __len__(self):\n",
        "        return len(self.image_files)\n",
        "\n",
        "    def __getitem__(self, index: int):\n",
        "        image = Image.load(self.images_files[index])\n",
        "        return self.transforms(image)"
      ]
    },
    {
      "cell_type": "markdown",
      "id": "71d4c107",
      "metadata": {
        "id": "71d4c107"
      },
      "source": [
        "# Dataset + DataLoader\n",
        "\n",
        "Dataset: produces sample by index\n",
        "\n",
        "Dataloader: incupsulates Dataset to generate stream of butchs of samples"
      ]
    },
    {
      "cell_type": "code",
      "execution_count": null,
      "id": "7d38c9c1",
      "metadata": {
        "id": "7d38c9c1"
      },
      "outputs": [],
      "source": [
        "from torch.utils.data import DataLoader\n",
        "\n",
        "dataset = MyDataset()\n",
        "dataloader = DataLoader(\n",
        "    dataset,\n",
        "    batch_size=16,\n",
        "    shuffle=True,\n",
        "    num_workers=8,\n",
        ")"
      ]
    },
    {
      "cell_type": "markdown",
      "id": "d28233f7",
      "metadata": {
        "id": "d28233f7"
      },
      "source": [
        "# DataLoader and python trees\n",
        "\n",
        "1. Tensor of shape [A1, ..., Ak] -> batch-tensor [BATCH_SIZE, A_1, ..., Ak]\n",
        "2. Tuple/list of tensors -> tuple/list of batch-tensors\n",
        "3. Dict -> recursively values of Dict\n",
        "\n",
        "Good idea to return sample as dicts:\n",
        "```python\n",
        "{\n",
        "    'image': image_tensor,\n",
        "    'mask': mask_tensor,\n",
        "    'label': label,\n",
        "}\n",
        "```"
      ]
    },
    {
      "cell_type": "markdown",
      "id": "54c61a7c",
      "metadata": {
        "id": "54c61a7c"
      },
      "source": [
        "# Layer Examples. Linear\n",
        "\n",
        "```\n",
        "torch.nn.Linear: [..., C_in] -> [..., C_out]\n",
        "```"
      ]
    },
    {
      "cell_type": "code",
      "execution_count": 23,
      "id": "b0b657a6",
      "metadata": {
        "colab": {
          "base_uri": "https://localhost:8080/"
        },
        "id": "b0b657a6",
        "outputId": "3d39a0d6-6ecf-4c65-f7fb-88d519bf8cef"
      },
      "outputs": [
        {
          "output_type": "stream",
          "name": "stdout",
          "text": [
            "torch.Size([16, 20])\n",
            "torch.Size([16, 3, 3, 3, 20])\n"
          ]
        }
      ],
      "source": [
        "import torch\n",
        "\n",
        "linear = torch.nn.Linear(\n",
        "    in_features=10,\n",
        "    out_features=20,\n",
        "    bias=True\n",
        ")\n",
        "\n",
        "x_in = torch.randn(16, 10)\n",
        "print(linear(x_in).shape)\n",
        "\n",
        "x_in = torch.randn(16, 3, 3, 3, 10)\n",
        "print(linear(x_in).shape)"
      ]
    },
    {
      "cell_type": "markdown",
      "id": "630aa277",
      "metadata": {
        "id": "630aa277"
      },
      "source": [
        "# Layer Examples. Conv\n",
        "\n",
        "```\n",
        "torch.nn.Conv2d: [BS, C_in, H, W] -> [BS, C_out, H', W']\n",
        "```"
      ]
    },
    {
      "cell_type": "code",
      "execution_count": 24,
      "id": "d8995ff2",
      "metadata": {
        "colab": {
          "base_uri": "https://localhost:8080/"
        },
        "id": "d8995ff2",
        "outputId": "140bcfed-6b72-4636-a12f-34300ca885eb"
      },
      "outputs": [
        {
          "output_type": "stream",
          "name": "stdout",
          "text": [
            "torch.Size([16, 20, 30, 30])\n",
            "torch.Size([16, 20, 32, 32])\n"
          ]
        }
      ],
      "source": [
        "import torch\n",
        "\n",
        "conv = torch.nn.Conv2d(\n",
        "    in_channels=10,\n",
        "    out_channels=20,\n",
        "    kernel_size=3,\n",
        ")\n",
        "\n",
        "x_in = torch.randn(16, 10, 32, 32)\n",
        "print(conv(x_in).shape)\n",
        "\n",
        "conv = torch.nn.Conv2d(\n",
        "    in_channels=10,\n",
        "    out_channels=20,\n",
        "    kernel_size=3,\n",
        "    padding=1,\n",
        ")\n",
        "x_in = torch.randn(16, 10, 32, 32)\n",
        "print(conv(x_in).shape)\n",
        "\n",
        "# Does not work:\n",
        "# x_in = torch.randn(16, 2, 10, 32, 32)\n",
        "# print(conv(x_in).shape)\n",
        "\n",
        "# Output size= (Input size+2×padding−kernel size)/stride + 1\n"
      ]
    },
    {
      "cell_type": "markdown",
      "id": "54327f1d",
      "metadata": {
        "id": "54327f1d"
      },
      "source": [
        "# Layer Examples. Pooling\n",
        "\n",
        "```\n",
        "torch.nn.MaxPool2d: [BS, C, H, W] -> [BS, C, H', W']\n",
        "```"
      ]
    },
    {
      "cell_type": "code",
      "execution_count": null,
      "id": "7528791a",
      "metadata": {
        "id": "7528791a",
        "outputId": "d31bc232-62b2-4706-9559-a363e29c3b23"
      },
      "outputs": [
        {
          "name": "stdout",
          "output_type": "stream",
          "text": [
            "torch.Size([16, 10, 16, 16])\n"
          ]
        }
      ],
      "source": [
        "import torch\n",
        "\n",
        "pool = torch.nn.MaxPool2d(\n",
        "    kernel_size=2,\n",
        ")\n",
        "\n",
        "x_in = torch.randn(16, 10, 32, 32)\n",
        "print(pool(x_in).shape)"
      ]
    },
    {
      "cell_type": "markdown",
      "id": "3339acb2",
      "metadata": {
        "id": "3339acb2"
      },
      "source": [
        "# Layer Examples. BatchNorm2d\n",
        "\n",
        "```\n",
        "torch.nn.BatchNorm2d: [BS, C, H, W] -> [BS, C, H, W]\n",
        "```"
      ]
    },
    {
      "cell_type": "code",
      "execution_count": null,
      "id": "65f239c3",
      "metadata": {
        "id": "65f239c3",
        "outputId": "0f3ca017-6cd4-4739-887f-012d83804ebf"
      },
      "outputs": [
        {
          "name": "stdout",
          "output_type": "stream",
          "text": [
            "torch.Size([16, 10, 32, 32])\n"
          ]
        }
      ],
      "source": [
        "import torch\n",
        "\n",
        "batch_norm = torch.nn.BatchNorm2d(10)\n",
        "\n",
        "x_in = torch.randn(16, 10, 32, 32)\n",
        "print(batch_norm(x_in).shape)"
      ]
    },
    {
      "cell_type": "markdown",
      "id": "8ea41072",
      "metadata": {
        "id": "8ea41072"
      },
      "source": [
        "# Network architeture: `nn.Module`\n",
        "\n",
        "*Layers* and *Networks* are indistinguishable:\n",
        "\n",
        "1. They are transformations from input tensors to output tensors\n",
        "2. They have weights (trainable, non-trainable and semi-trainable parameters)\n",
        "3. They have hyperarameters"
      ]
    },
    {
      "cell_type": "code",
      "execution_count": null,
      "id": "890be84f",
      "metadata": {
        "id": "890be84f"
      },
      "outputs": [],
      "source": [
        "from torch import nn\n",
        "\n",
        "\n",
        "class LayerOrNetwork(nn.Module):\n",
        "    def __init__(self, hyperparameters):\n",
        "        super().__init__()\n",
        "        ...\n",
        "\n",
        "    def forward(self, x):\n",
        "        ...\n",
        "        return y"
      ]
    },
    {
      "cell_type": "code",
      "source": [
        "import torch\n",
        "from torch import nn"
      ],
      "metadata": {
        "id": "I7UqQbP5hEJj"
      },
      "id": "I7UqQbP5hEJj",
      "execution_count": 2,
      "outputs": []
    },
    {
      "cell_type": "code",
      "execution_count": 14,
      "id": "888caafe",
      "metadata": {
        "id": "888caafe"
      },
      "outputs": [],
      "source": [
        "class SimpleConv(nn.Module):\n",
        "    def __init__(self):\n",
        "        super().__init__()\n",
        "\n",
        "        self.conv1 = nn.Conv2d(in_channels=3, out_channels=64, kernel_size=3)\n",
        "        self.relu1 = nn.ReLU()\n",
        "        self.conv2 = nn.Conv2d(in_channels=64, out_channels=64, kernel_size=3)\n",
        "        self.conv3 = nn.Conv2d(in_channels=64, out_channels=64, kernel_size=3)\n",
        "        self.pooling = nn.AdaptiveAvgPool2d(output_size=1)\n",
        "        self.linear = nn.Linear(64, 1)\n",
        "        #self.weight = nn.Parameter(torch.randn(3, 3))  # Example of trainable weight\n",
        "        #self.register_buffer('running_mean', torch.zeros(3, 3))\n",
        "\n",
        "    def forward(self, x):\n",
        "        x = self.conv1(x)\n",
        "        x = self.relu1(x)\n",
        "\n",
        "        x = self.conv2(x)\n",
        "        x = nn.functional.relu(x)\n",
        "\n",
        "        x = self.conv3(x)\n",
        "        x = nn.functional.relu(x)\n",
        "\n",
        "        x = self.pooling(x)\n",
        "\n",
        "        x = x.squeeze(-1).squeeze(-1)\n",
        "\n",
        "        x = self.linear(x)\n",
        "        #x= torch.matmul(x, self.weight)\n",
        "        # x = x + self.running_mean\n",
        "        return x"
      ]
    },
    {
      "cell_type": "code",
      "source": [
        "x = torch.randn(1, 3, 32, 32)\n",
        "\n",
        "model = SimpleConv()\n",
        "\n",
        "output = model(x)\n",
        "\n",
        "print(\"Output shape:\", output)"
      ],
      "metadata": {
        "colab": {
          "base_uri": "https://localhost:8080/"
        },
        "id": "hmvkwVSvhIPo",
        "outputId": "3e2b89cd-fa1c-4227-947a-b7b7a2f4c06a"
      },
      "id": "hmvkwVSvhIPo",
      "execution_count": 15,
      "outputs": [
        {
          "output_type": "stream",
          "name": "stdout",
          "text": [
            "Output shape: tensor([[-0.0795]], grad_fn=<AddmmBackward0>)\n"
          ]
        }
      ]
    },
    {
      "cell_type": "code",
      "source": [
        "for name, param in model.named_parameters():\n",
        "    print(name, param.shape)"
      ],
      "metadata": {
        "colab": {
          "base_uri": "https://localhost:8080/"
        },
        "id": "wAasWJHc0pXg",
        "outputId": "5dfed450-f35e-465f-d1e5-b91006ccb313"
      },
      "id": "wAasWJHc0pXg",
      "execution_count": 16,
      "outputs": [
        {
          "output_type": "stream",
          "name": "stdout",
          "text": [
            "conv1.weight torch.Size([64, 3, 3, 3])\n",
            "conv1.bias torch.Size([64])\n",
            "conv2.weight torch.Size([64, 64, 3, 3])\n",
            "conv2.bias torch.Size([64])\n",
            "conv3.weight torch.Size([64, 64, 3, 3])\n",
            "conv3.bias torch.Size([64])\n",
            "linear.weight torch.Size([1, 64])\n",
            "linear.bias torch.Size([1])\n"
          ]
        }
      ]
    },
    {
      "cell_type": "code",
      "source": [
        "params = list(model.parameters())\n",
        "#print(params)\n",
        "buffers = list(model.buffers())\n",
        "print(buffers)"
      ],
      "metadata": {
        "colab": {
          "base_uri": "https://localhost:8080/"
        },
        "id": "De5iEAbb8BBM",
        "outputId": "5d283145-169c-43b4-fda5-190195c8d990"
      },
      "id": "De5iEAbb8BBM",
      "execution_count": 17,
      "outputs": [
        {
          "output_type": "stream",
          "name": "stdout",
          "text": [
            "[]\n"
          ]
        }
      ]
    },
    {
      "cell_type": "code",
      "source": [
        "input_tensor = torch.randn(1, 3, 4, 4)\n",
        "\n",
        "adaptive_pooling = nn.AdaptiveAvgPool2d(output_size=1)\n",
        "\n",
        "\n",
        "output_tensor = adaptive_pooling(input_tensor)\n",
        "\n",
        "print(\"Output shape:\", output_tensor.shape)"
      ],
      "metadata": {
        "colab": {
          "base_uri": "https://localhost:8080/"
        },
        "id": "ydslqMbVhUfn",
        "outputId": "019b2af8-12fe-478f-c2e1-0a83f3611e0e"
      },
      "id": "ydslqMbVhUfn",
      "execution_count": 19,
      "outputs": [
        {
          "output_type": "stream",
          "name": "stdout",
          "text": [
            "Output shape: torch.Size([1, 3, 1, 1])\n"
          ]
        }
      ]
    },
    {
      "cell_type": "code",
      "source": [],
      "metadata": {
        "id": "xkkfbNHWlKjM"
      },
      "id": "xkkfbNHWlKjM",
      "execution_count": null,
      "outputs": []
    },
    {
      "cell_type": "markdown",
      "id": "e6234d8a",
      "metadata": {
        "id": "e6234d8a"
      },
      "source": [
        "# Training Loop\n",
        "\n",
        "```\n",
        "Instantiate dataset + dataloader\n",
        "Instantiate neural network\n",
        "\n",
        "while True:\n",
        "    Generate batch\n",
        "    Pass input tensors through batch\n",
        "    Compare network output with targets and compute loss\n",
        "    Calculate gradients of loss w.r.t. network parameters\n",
        "    Update network weights\n",
        "```"
      ]
    },
    {
      "cell_type": "code",
      "execution_count": null,
      "id": "a787cbbb",
      "metadata": {
        "id": "a787cbbb"
      },
      "outputs": [],
      "source": [
        "network\n",
        "# network.submodule1.weight1\n",
        "# network.submodule1.submodule2.weight2\n",
        "\n",
        "x, y                # input tensor and output tensor\n",
        "y_hat = network(x)  # network output\n",
        "loss = ((y - y_hat)**2).mean()\n",
        "\n",
        "loss.backward()\n",
        "# network.submodule1.weight1.grad <- d loss / d weight1\n",
        "# network.submodule1.weight2.grad <- d loss / d weight2"
      ]
    },
    {
      "cell_type": "code",
      "execution_count": null,
      "id": "cb68f6d4",
      "metadata": {
        "id": "cb68f6d4"
      },
      "outputs": [],
      "source": [
        "#initialization\n",
        "optimizer = torch.optim.SGD(network.parameters(), lr=1e-1)\n",
        "\n",
        "...\n",
        "\n",
        "#inside training loop:\n",
        "while True:\n",
        "    ...\n",
        "    loss = ...\n",
        "\n",
        "    optimizer.zero_grad()\n",
        "    loss.backward()\n",
        "    optimizer.step()"
      ]
    },
    {
      "cell_type": "code",
      "execution_count": null,
      "id": "1f9ee77a",
      "metadata": {
        "id": "1f9ee77a"
      },
      "outputs": [],
      "source": [
        "dataset = MyDataset()\n",
        "\n",
        "dataloader = DataLoader(dataset, batch_size=16, shuffle=True, num_workers=8)\n",
        "\n",
        "network = SimpleConv()\n",
        "\n",
        "optimizer = torch.optim.SGD(network.parameters(), lr=1e-1)\n",
        "\n",
        "while True:\n",
        "    for batch in dataloader:\n",
        "        images, targets = batch\n",
        "\n",
        "        network_outputs = network(images)\n",
        "\n",
        "        loss = ((targets - network_outputs)**2).mean()\n",
        "\n",
        "        optimizer.zero_grad()\n",
        "        loss.backward()\n",
        "        optimizer.step()\n",
        "\n",
        "        print(loss.item())"
      ]
    },
    {
      "cell_type": "code",
      "source": [
        "import torch.optim as optim\n",
        "from torch.optim.lr_scheduler import CosineAnnealingLR\n",
        "from torch.optim.lr_scheduler import ReduceLROnPlateau\n",
        "from torch.optim.lr_scheduler import ExponentialLR\n",
        "\n",
        "\n",
        "network = SimpleConv()\n",
        "\n",
        "optimizer = torch.optim.SGD(network.parameters(), lr=1e-1)\n",
        "\n",
        "scheduler = CosineAnnealingLR(optimizer, T_max=10, eta_min=0) #T_max is the number of epochs for which the learning rate will anneal (complete one cycle), and eta_min is the minimum learning rate.\n",
        "\n",
        "#scheduler = ReduceLROnPlateau(optimizer, mode='min', factor=0.1, patience=5, verbose=True) #This scheduler reduces the learning rate when a metric has stopped improving.\n",
        "\n",
        "#scheduler = ExponentialLR(optimizer, gamma=0.9)\n",
        "\n",
        "num_epochs = 100\n",
        "\n",
        "for epoch in range(num_epochs):\n",
        "\n",
        "    for batch in dataloader:\n",
        "        images, targets = batch\n",
        "\n",
        "        network_outputs = network(images)\n",
        "\n",
        "        loss = ((targets - network_outputs)**2).mean()\n",
        "\n",
        "        optimizer.zero_grad()\n",
        "\n",
        "        loss.backward()\n",
        "\n",
        "        optimizer.step()\n",
        "\n",
        "    # Update the learning rate scheduler\n",
        "    scheduler.step()\n"
      ],
      "metadata": {
        "id": "wBziedmD-tsO"
      },
      "id": "wBziedmD-tsO",
      "execution_count": null,
      "outputs": []
    },
    {
      "cell_type": "markdown",
      "id": "5c82c6da",
      "metadata": {
        "id": "5c82c6da"
      },
      "source": [
        "# Task.\n",
        "\n",
        "Train neural network to square 1-dimensional input tensor $x \\rightarrow x^2$\n",
        "\n",
        "1. Implement Dataset that would generate sample pairs $(x, x^2), x \\in [-3; 3]$\n",
        "2. Implement multi-layer perceptron.\n",
        "3. Create dataset, dataloader, network instance and optimizer\n",
        "4. Implement training loop and train your neural network"
      ]
    },
    {
      "cell_type": "code",
      "source": [
        "import random\n",
        "\n",
        "import torch\n",
        "from torch import nn\n",
        "from torch.utils.data import Dataset, DataLoader\n",
        "from matplotlib import pyplot as plt\n",
        "\n",
        "\n",
        "class SqrDataset(Dataset):\n",
        "    def __len__(self):\n",
        "        return 10**6\n",
        "\n",
        "    def __getitem__(self, _):\n",
        "        x = random.random() * 6 - 3\n",
        "        return torch.tensor([x]), torch.tensor([x**2])\n",
        "\n",
        "\n",
        "class Network(nn.Module):\n",
        "    def __init__(self):\n",
        "        super().__init__()\n",
        "\n",
        "        self.linear1 = nn.Linear(1, 32)\n",
        "        self.linear2 = nn.Linear(32, 1)\n",
        "\n",
        "    def forward(self, x):\n",
        "        x = self.linear1(x)\n",
        "        x = nn.functional.relu(x)\n",
        "        x = self.linear2(x)\n",
        "\n",
        "        return x\n",
        "\n",
        "\n",
        "dataset = SqrDataset()\n",
        "dataloader = DataLoader(dataset, 2**10, False, num_workers=0)\n",
        "\n",
        "\n",
        "network = Network()\n",
        "optimizer = torch.optim.Adam(network.parameters())\n",
        "\n",
        "for x, y in dataloader:\n",
        "    network_output = network(x)\n",
        "    loss = ((network_output - y)**2).mean()\n",
        "\n",
        "    optimizer.zero_grad()\n",
        "    loss.backward()\n",
        "    optimizer.step()\n",
        "\n",
        "    print(loss.item())\n",
        "\n",
        "\n",
        "xs = torch.linspace(-3, 3, 1000)[:, None]\n",
        "ys = network(xs)\n",
        "\n"
      ],
      "metadata": {
        "id": "UiVoeUELif9P"
      },
      "id": "UiVoeUELif9P",
      "execution_count": null,
      "outputs": []
    },
    {
      "cell_type": "code",
      "source": [
        "plt.plot(xs.detach().numpy(), ys.detach().numpy())\n",
        "plt.plot(xs.detach().numpy(), xs.detach().numpy()**2)\n",
        "plt.savefig('./a.png')\n",
        "plt.show()"
      ],
      "metadata": {
        "colab": {
          "base_uri": "https://localhost:8080/",
          "height": 430
        },
        "id": "5fZ-r0TojYGz",
        "outputId": "bbf8d768-b74b-4d65-ae11-fb47a0db79e0"
      },
      "id": "5fZ-r0TojYGz",
      "execution_count": 12,
      "outputs": [
        {
          "output_type": "display_data",
          "data": {
            "text/plain": [
              "<Figure size 640x480 with 1 Axes>"
            ],
            "image/png": "[encoded data removed]"
          },
          "metadata": {}
        }
      ]
    },
    {
      "cell_type": "markdown",
      "source": [
        "# CNN zoo\n",
        "\n"
      ],
      "metadata": {
        "id": "2Bbmr3HbnicM"
      },
      "id": "2Bbmr3HbnicM"
    },
    {
      "cell_type": "code",
      "source": [
        "import torch\n",
        "import torchvision\n",
        "import torchvision.transforms as transforms\n",
        "import torch.nn as nn\n",
        "import torch.optim as optim\n",
        "from torch.utils.data import DataLoader\n",
        "\n",
        "\n",
        "transform = transforms.Compose([\n",
        "    transforms.ToTensor(),\n",
        "    transforms.Normalize((0.5, 0.5, 0.5), (0.5, 0.5, 0.5))\n",
        "])\n",
        "\n",
        "train_dataset = torchvision.datasets.CIFAR10(root='./data', train=True, download=True, transform=transform)\n",
        "train_loader = DataLoader(train_dataset, batch_size=64, shuffle=True)\n",
        "\n",
        "\n",
        "model_name = 'resnet18'\n",
        "\n",
        "if model_name == 'vgg16':\n",
        "    model = torchvision.models.vgg16(pretrained=True)\n",
        "elif model_name == 'resnet18':\n",
        "    model = torchvision.models.resnet18(pretrained=True)\n",
        "elif model_name == 'mobilenet_v2':\n",
        "    model = torchvision.models.mobilenet_v2(pretrained=True)\n",
        "else:\n",
        "    raise ValueError(\"Invalid model name. Choose from 'vgg16', 'resnet18', 'mobilenet_v2'.\")\n",
        "\n",
        "# Fine-tune\n",
        "if model_name != 'mobilenet_v2':\n",
        "    num_ftrs = model.fc.in_features\n",
        "    model.fc = nn.Linear(num_ftrs, 10)\n",
        "else:\n",
        "    model.classifier[1] = nn.Linear(1280, 10)\n",
        "\n",
        "# Training\n",
        "criterion = nn.CrossEntropyLoss()\n",
        "optimizer = optim.SGD(model.parameters(), lr=0.001, momentum=0.9)\n",
        "\n",
        "for epoch in range(10):\n",
        "    running_loss = 0.0\n",
        "    for i, data in enumerate(train_loader, 0):\n",
        "        inputs, labels = data\n",
        "        optimizer.zero_grad()\n",
        "\n",
        "        outputs = model(inputs)\n",
        "        loss = criterion(outputs, labels)\n",
        "        loss.backward()\n",
        "        optimizer.step()\n",
        "\n",
        "        running_loss += loss.item()\n",
        "        if i % 100 == 99:\n",
        "            print('[%d, %5d] loss: %.3f' %\n",
        "                  (epoch + 1, i + 1, running_loss / 100))\n",
        "            running_loss = 0.0\n"
      ],
      "metadata": {
        "colab": {
          "base_uri": "https://localhost:8080/"
        },
        "id": "Ojy5seprnqlZ",
        "outputId": "120bfa09-92e1-455f-fcf8-989f146dea12"
      },
      "id": "Ojy5seprnqlZ",
      "execution_count": 13,
      "outputs": [
        {
          "metadata": {
            "tags": null
          },
          "name": "stdout",
          "output_type": "stream",
          "text": [
            "Downloading https://www.cs.toronto.edu/~kriz/cifar-10-python.tar.gz to ./data/cifar-10-python.tar.gz\n"
          ]
        },
        {
          "metadata": {
            "tags": null
          },
          "name": "stderr",
          "output_type": "stream",
          "text": [
            "100%|██████████| 170498071/170498071 [00:05<00:00, 31937819.62it/s]\n"
          ]
        },
        {
          "metadata": {
            "tags": null
          },
          "name": "stdout",
          "output_type": "stream",
          "text": [
            "Extracting ./data/cifar-10-python.tar.gz to ./data\n"
          ]
        },
        {
          "metadata": {
            "tags": null
          },
          "name": "stderr",
          "output_type": "stream",
          "text": [
            "/usr/local/lib/python3.10/dist-packages/torchvision/models/_utils.py:208: UserWarning: The parameter 'pretrained' is deprecated since 0.13 and may be removed in the future, please use 'weights' instead.\n",
            "  warnings.warn(\n",
            "/usr/local/lib/python3.10/dist-packages/torchvision/models/_utils.py:223: UserWarning: Arguments other than a weight enum or `None` for 'weights' are deprecated since 0.13 and may be removed in the future. The current behavior is equivalent to passing `weights=ResNet18_Weights.IMAGENET1K_V1`. You can also use `weights=ResNet18_Weights.DEFAULT` to get the most up-to-date weights.\n",
            "  warnings.warn(msg)\n",
            "Downloading: \"https://download.pytorch.org/models/resnet18-f37072fd.pth\" to /root/.cache/torch/hub/checkpoints/resnet18-f37072fd.pth\n",
            "100%|██████████| 44.7M/44.7M [00:00<00:00, 114MB/s]\n"
          ]
        },
        {
          "output_type": "stream",
          "name": "stdout",
          "text": [
            "[1,   100] loss: 1.701\n",
            "[1,   200] loss: 1.191\n",
            "[1,   300] loss: 1.050\n",
            "[1,   400] loss: 0.951\n",
            "[1,   500] loss: 0.908\n",
            "[1,   600] loss: 0.841\n",
            "[1,   700] loss: 0.815\n",
            "[2,   100] loss: 0.659\n",
            "[2,   200] loss: 0.642\n",
            "[2,   300] loss: 0.670\n",
            "[2,   400] loss: 0.652\n",
            "[2,   500] loss: 0.632\n",
            "[2,   600] loss: 0.614\n",
            "[2,   700] loss: 0.623\n",
            "[3,   100] loss: 0.464\n",
            "[3,   200] loss: 0.489\n",
            "[3,   300] loss: 0.483\n",
            "[3,   400] loss: 0.486\n",
            "[3,   500] loss: 0.482\n",
            "[3,   600] loss: 0.481\n",
            "[3,   700] loss: 0.473\n",
            "[4,   100] loss: 0.340\n",
            "[4,   200] loss: 0.362\n",
            "[4,   300] loss: 0.378\n",
            "[4,   400] loss: 0.374\n",
            "[4,   500] loss: 0.368\n",
            "[4,   600] loss: 0.383\n",
            "[4,   700] loss: 0.391\n",
            "[5,   100] loss: 0.257\n",
            "[5,   200] loss: 0.273\n",
            "[5,   300] loss: 0.259\n",
            "[5,   400] loss: 0.301\n",
            "[5,   500] loss: 0.279\n",
            "[5,   600] loss: 0.309\n",
            "[5,   700] loss: 0.315\n",
            "[6,   100] loss: 0.196\n",
            "[6,   200] loss: 0.203\n",
            "[6,   300] loss: 0.211\n",
            "[6,   400] loss: 0.218\n",
            "[6,   500] loss: 0.238\n",
            "[6,   600] loss: 0.236\n",
            "[6,   700] loss: 0.242\n",
            "[7,   100] loss: 0.168\n",
            "[7,   200] loss: 0.172\n",
            "[7,   300] loss: 0.162\n",
            "[7,   400] loss: 0.167\n",
            "[7,   500] loss: 0.176\n",
            "[7,   600] loss: 0.202\n",
            "[7,   700] loss: 0.180\n",
            "[8,   100] loss: 0.141\n",
            "[8,   200] loss: 0.128\n",
            "[8,   300] loss: 0.135\n",
            "[8,   400] loss: 0.131\n",
            "[8,   500] loss: 0.149\n",
            "[8,   600] loss: 0.162\n",
            "[8,   700] loss: 0.167\n",
            "[9,   100] loss: 0.109\n",
            "[9,   200] loss: 0.107\n",
            "[9,   300] loss: 0.102\n",
            "[9,   400] loss: 0.117\n",
            "[9,   500] loss: 0.126\n",
            "[9,   600] loss: 0.114\n",
            "[9,   700] loss: 0.126\n",
            "[10,   100] loss: 0.096\n",
            "[10,   200] loss: 0.095\n",
            "[10,   300] loss: 0.097\n",
            "[10,   400] loss: 0.099\n",
            "[10,   500] loss: 0.105\n",
            "[10,   600] loss: 0.103\n",
            "[10,   700] loss: 0.103\n"
          ]
        }
      ]
    },
    {
      "cell_type": "code",
      "source": [
        "import torch\n",
        "import torchvision\n",
        "model1 = torchvision.models.resnet18(pretrained=True)\n",
        "print(model1)"
      ],
      "metadata": {
        "colab": {
          "base_uri": "https://localhost:8080/"
        },
        "id": "Hv1bzfkOnqn2",
        "outputId": "a09f0e55-6466-4417-b380-7efa030cce4a"
      },
      "id": "Hv1bzfkOnqn2",
      "execution_count": 1,
      "outputs": [
        {
          "output_type": "stream",
          "name": "stderr",
          "text": [
            "/usr/local/lib/python3.10/dist-packages/torchvision/models/_utils.py:208: UserWarning: The parameter 'pretrained' is deprecated since 0.13 and may be removed in the future, please use 'weights' instead.\n",
            "  warnings.warn(\n",
            "/usr/local/lib/python3.10/dist-packages/torchvision/models/_utils.py:223: UserWarning: Arguments other than a weight enum or `None` for 'weights' are deprecated since 0.13 and may be removed in the future. The current behavior is equivalent to passing `weights=ResNet18_Weights.IMAGENET1K_V1`. You can also use `weights=ResNet18_Weights.DEFAULT` to get the most up-to-date weights.\n",
            "  warnings.warn(msg)\n",
            "Downloading: \"https://download.pytorch.org/models/resnet18-f37072fd.pth\" to /root/.cache/torch/hub/checkpoints/resnet18-f37072fd.pth\n",
            "100%|██████████| 44.7M/44.7M [00:00<00:00, 124MB/s]\n"
          ]
        },
        {
          "output_type": "stream",
          "name": "stdout",
          "text": [
            "ResNet(\n",
            "  (conv1): Conv2d(3, 64, kernel_size=(7, 7), stride=(2, 2), padding=(3, 3), bias=False)\n",
            "  (bn1): BatchNorm2d(64, eps=1e-05, momentum=0.1, affine=True, track_running_stats=True)\n",
            "  (relu): ReLU(inplace=True)\n",
            "  (maxpool): MaxPool2d(kernel_size=3, stride=2, padding=1, dilation=1, ceil_mode=False)\n",
            "  (layer1): Sequential(\n",
            "    (0): BasicBlock(\n",
            "      (conv1): Conv2d(64, 64, kernel_size=(3, 3), stride=(1, 1), padding=(1, 1), bias=False)\n",
            "      (bn1): BatchNorm2d(64, eps=1e-05, momentum=0.1, affine=True, track_running_stats=True)\n",
            "      (relu): ReLU(inplace=True)\n",
            "      (conv2): Conv2d(64, 64, kernel_size=(3, 3), stride=(1, 1), padding=(1, 1), bias=False)\n",
            "      (bn2): BatchNorm2d(64, eps=1e-05, momentum=0.1, affine=True, track_running_stats=True)\n",
            "    )\n",
            "    (1): BasicBlock(\n",
            "      (conv1): Conv2d(64, 64, kernel_size=(3, 3), stride=(1, 1), padding=(1, 1), bias=False)\n",
            "      (bn1): BatchNorm2d(64, eps=1e-05, momentum=0.1, affine=True, track_running_stats=True)\n",
            "      (relu): ReLU(inplace=True)\n",
            "      (conv2): Conv2d(64, 64, kernel_size=(3, 3), stride=(1, 1), padding=(1, 1), bias=False)\n",
            "      (bn2): BatchNorm2d(64, eps=1e-05, momentum=0.1, affine=True, track_running_stats=True)\n",
            "    )\n",
            "  )\n",
            "  (layer2): Sequential(\n",
            "    (0): BasicBlock(\n",
            "      (conv1): Conv2d(64, 128, kernel_size=(3, 3), stride=(2, 2), padding=(1, 1), bias=False)\n",
            "      (bn1): BatchNorm2d(128, eps=1e-05, momentum=0.1, affine=True, track_running_stats=True)\n",
            "      (relu): ReLU(inplace=True)\n",
            "      (conv2): Conv2d(128, 128, kernel_size=(3, 3), stride=(1, 1), padding=(1, 1), bias=False)\n",
            "      (bn2): BatchNorm2d(128, eps=1e-05, momentum=0.1, affine=True, track_running_stats=True)\n",
            "      (downsample): Sequential(\n",
            "        (0): Conv2d(64, 128, kernel_size=(1, 1), stride=(2, 2), bias=False)\n",
            "        (1): BatchNorm2d(128, eps=1e-05, momentum=0.1, affine=True, track_running_stats=True)\n",
            "      )\n",
            "    )\n",
            "    (1): BasicBlock(\n",
            "      (conv1): Conv2d(128, 128, kernel_size=(3, 3), stride=(1, 1), padding=(1, 1), bias=False)\n",
            "      (bn1): BatchNorm2d(128, eps=1e-05, momentum=0.1, affine=True, track_running_stats=True)\n",
            "      (relu): ReLU(inplace=True)\n",
            "      (conv2): Conv2d(128, 128, kernel_size=(3, 3), stride=(1, 1), padding=(1, 1), bias=False)\n",
            "      (bn2): BatchNorm2d(128, eps=1e-05, momentum=0.1, affine=True, track_running_stats=True)\n",
            "    )\n",
            "  )\n",
            "  (layer3): Sequential(\n",
            "    (0): BasicBlock(\n",
            "      (conv1): Conv2d(128, 256, kernel_size=(3, 3), stride=(2, 2), padding=(1, 1), bias=False)\n",
            "      (bn1): BatchNorm2d(256, eps=1e-05, momentum=0.1, affine=True, track_running_stats=True)\n",
            "      (relu): ReLU(inplace=True)\n",
            "      (conv2): Conv2d(256, 256, kernel_size=(3, 3), stride=(1, 1), padding=(1, 1), bias=False)\n",
            "      (bn2): BatchNorm2d(256, eps=1e-05, momentum=0.1, affine=True, track_running_stats=True)\n",
            "      (downsample): Sequential(\n",
            "        (0): Conv2d(128, 256, kernel_size=(1, 1), stride=(2, 2), bias=False)\n",
            "        (1): BatchNorm2d(256, eps=1e-05, momentum=0.1, affine=True, track_running_stats=True)\n",
            "      )\n",
            "    )\n",
            "    (1): BasicBlock(\n",
            "      (conv1): Conv2d(256, 256, kernel_size=(3, 3), stride=(1, 1), padding=(1, 1), bias=False)\n",
            "      (bn1): BatchNorm2d(256, eps=1e-05, momentum=0.1, affine=True, track_running_stats=True)\n",
            "      (relu): ReLU(inplace=True)\n",
            "      (conv2): Conv2d(256, 256, kernel_size=(3, 3), stride=(1, 1), padding=(1, 1), bias=False)\n",
            "      (bn2): BatchNorm2d(256, eps=1e-05, momentum=0.1, affine=True, track_running_stats=True)\n",
            "    )\n",
            "  )\n",
            "  (layer4): Sequential(\n",
            "    (0): BasicBlock(\n",
            "      (conv1): Conv2d(256, 512, kernel_size=(3, 3), stride=(2, 2), padding=(1, 1), bias=False)\n",
            "      (bn1): BatchNorm2d(512, eps=1e-05, momentum=0.1, affine=True, track_running_stats=True)\n",
            "      (relu): ReLU(inplace=True)\n",
            "      (conv2): Conv2d(512, 512, kernel_size=(3, 3), stride=(1, 1), padding=(1, 1), bias=False)\n",
            "      (bn2): BatchNorm2d(512, eps=1e-05, momentum=0.1, affine=True, track_running_stats=True)\n",
            "      (downsample): Sequential(\n",
            "        (0): Conv2d(256, 512, kernel_size=(1, 1), stride=(2, 2), bias=False)\n",
            "        (1): BatchNorm2d(512, eps=1e-05, momentum=0.1, affine=True, track_running_stats=True)\n",
            "      )\n",
            "    )\n",
            "    (1): BasicBlock(\n",
            "      (conv1): Conv2d(512, 512, kernel_size=(3, 3), stride=(1, 1), padding=(1, 1), bias=False)\n",
            "      (bn1): BatchNorm2d(512, eps=1e-05, momentum=0.1, affine=True, track_running_stats=True)\n",
            "      (relu): ReLU(inplace=True)\n",
            "      (conv2): Conv2d(512, 512, kernel_size=(3, 3), stride=(1, 1), padding=(1, 1), bias=False)\n",
            "      (bn2): BatchNorm2d(512, eps=1e-05, momentum=0.1, affine=True, track_running_stats=True)\n",
            "    )\n",
            "  )\n",
            "  (avgpool): AdaptiveAvgPool2d(output_size=(1, 1))\n",
            "  (fc): Linear(in_features=512, out_features=1000, bias=True)\n",
            ")\n"
          ]
        }
      ]
    },
    {
      "cell_type": "code",
      "source": [],
      "metadata": {
        "id": "gjEztP9anqrc"
      },
      "id": "gjEztP9anqrc",
      "execution_count": null,
      "outputs": []
    },
    {
      "cell_type": "code",
      "source": [],
      "metadata": {
        "id": "PtAYeeOrnqvg"
      },
      "id": "PtAYeeOrnqvg",
      "execution_count": null,
      "outputs": []
    }
  ],
  "metadata": {
    "celltoolbar": "Слайд-шоу",
    "kernelspec": {
      "display_name": "Python 3 (ipykernel)",
      "language": "python",
      "name": "python3"
    },
    "language_info": {
      "codemirror_mode": {
        "name": "ipython",
        "version": 3
      },
      "file_extension": ".py",
      "mimetype": "text/x-python",
      "name": "python",
      "nbconvert_exporter": "python",
      "pygments_lexer": "ipython3",
      "version": "3.10.8"
    },
    "colab": {
      "provenance": []
    }
  },
  "nbformat": 4,
  "nbformat_minor": 5
}